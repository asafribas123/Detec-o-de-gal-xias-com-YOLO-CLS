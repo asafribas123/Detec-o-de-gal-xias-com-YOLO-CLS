{
 "cells": [
  {
   "cell_type": "code",
   "execution_count": 4,
   "metadata": {},
   "outputs": [
    {
     "name": "stdout",
     "output_type": "stream",
     "text": [
      "Defaulting to user installation because normal site-packages is not writeable\n",
      "Requirement already satisfied: h5py in /var/data/python/lib/python3.12/site-packages (3.15.1)\n",
      "Requirement already satisfied: numpy>=1.21.2 in /var/data/python/lib/python3.12/site-packages (from h5py) (2.2.6)\n",
      "Defaulting to user installation because normal site-packages is not writeable\n",
      "Collecting tqdm\n",
      "  Downloading tqdm-4.67.1-py3-none-any.whl.metadata (57 kB)\n",
      "Downloading tqdm-4.67.1-py3-none-any.whl (78 kB)\n",
      "Installing collected packages: tqdm\n",
      "Successfully installed tqdm-4.67.1\n"
     ]
    }
   ],
   "source": [
    "!pip install h5py\n",
    "!pip install tqdm\n"
   ]
  },
  {
   "cell_type": "markdown",
   "metadata": {
    "id": "BOTjYFzrF2Ik"
   },
   "source": [
    "Importing the necessary Libraries"
   ]
  },
  {
   "cell_type": "code",
   "execution_count": 5,
   "metadata": {},
   "outputs": [],
   "source": [
    "import os\n",
    "import h5py\n",
    "import numpy as np\n",
    "from sklearn.model_selection import train_test_split\n",
    "from PIL import Image\n",
    "from tqdm import tqdm\n",
    "import requests\n"
   ]
  },
  {
   "cell_type": "code",
   "execution_count": 8,
   "metadata": {},
   "outputs": [
    {
     "name": "stdout",
     "output_type": "stream",
     "text": [
      "📥 Baixando novamente Galaxy10_DECals (~2 GB)...\n",
      "✅ Download concluído (2.55 GB). Arquivo salvo em: /home/astroesul/Asaf_mestrado/Códigos_atuais/Hardware - 02/Galaxy10_DECals.h5\n"
     ]
    }
   ],
   "source": [
    "base_dir = \"/home/astroesul/Asaf_mestrado/Códigos_atuais/Hardware - 02\"\n",
    "dataset_path = os.path.join(base_dir, \"Galaxy10_DECals.h5\")\n",
    "\n",
    "# Apagar arquivo corrompido se existir\n",
    "if os.path.exists(dataset_path):\n",
    "    os.remove(dataset_path)\n",
    "    print(\"⚠️ Arquivo anterior removido (possivelmente incompleto).\")\n",
    "\n",
    "# Novo download via streaming\n",
    "url = \"https://zenodo.org/records/10845026/files/Galaxy10_DECals.h5\"\n",
    "\n",
    "print(\"📥 Baixando novamente Galaxy10_DECals (~2 GB)...\")\n",
    "\n",
    "with requests.get(url, stream=True) as r:\n",
    "    r.raise_for_status()\n",
    "    total = int(r.headers.get(\"content-length\", 0))\n",
    "    with open(dataset_path, \"wb\") as f:\n",
    "        for chunk in r.iter_content(chunk_size=8192):\n",
    "            f.write(chunk)\n",
    "\n",
    "# Verificar tamanho final\n",
    "size_gb = os.path.getsize(dataset_path) / (1024**3)\n",
    "print(f\"✅ Download concluído ({size_gb:.2f} GB). Arquivo salvo em: {dataset_path}\")\n"
   ]
  },
  {
   "cell_type": "code",
   "execution_count": 9,
   "metadata": {},
   "outputs": [
    {
     "name": "stdout",
     "output_type": "stream",
     "text": [
      "<KeysViewHDF5 ['ans', 'dec', 'images', 'pxscale', 'ra', 'redshift']>\n"
     ]
    }
   ],
   "source": [
    "with h5py.File(dataset_path, \"r\") as f:\n",
    "    print(f.keys())  # Deve mostrar: ['ans', 'images']"
   ]
  },
  {
   "cell_type": "code",
   "execution_count": 10,
   "metadata": {
    "colab": {
     "base_uri": "https://localhost:8080/",
     "height": 1000
    },
    "executionInfo": {
     "elapsed": 19344,
     "status": "ok",
     "timestamp": 1758571054942,
     "user": {
      "displayName": "Asaf Ribas",
      "userId": "09756521834222981445"
     },
     "user_tz": 180
    },
    "id": "_SOJOtwbRqQO",
    "outputId": "9139d6c0-be33-43a6-80fa-3ee49bf2584f"
   },
   "outputs": [
    {
     "name": "stdout",
     "output_type": "stream",
     "text": [
      "✅ Arquivo já existe, pulando download.\n",
      "🔍 Lendo arquivo HDF5...\n",
      "Total de imagens: 17736\n",
      "Dimensões: (17736, 256, 256, 3)\n",
      "✅ Após filtragem: 17736 imagens em 3 classes.\n",
      "💾 Salvando train...\n"
     ]
    },
    {
     "name": "stderr",
     "output_type": "stream",
     "text": [
      "100%|██████████| 14188/14188 [02:02<00:00, 115.73it/s]\n"
     ]
    },
    {
     "name": "stdout",
     "output_type": "stream",
     "text": [
      "💾 Salvando val...\n"
     ]
    },
    {
     "name": "stderr",
     "output_type": "stream",
     "text": [
      "100%|██████████| 3548/3548 [00:30<00:00, 114.55it/s]"
     ]
    },
    {
     "name": "stdout",
     "output_type": "stream",
     "text": [
      "✅ Dataset estruturado com sucesso!\n",
      "Estrutura final: /home/astroesul/Asaf_mestrado/Códigos_atuais/Hardware - 02/dataset_cls\n"
     ]
    },
    {
     "name": "stderr",
     "output_type": "stream",
     "text": [
      "\n"
     ]
    }
   ],
   "source": [
    "# ==========================\n",
    "# ⬇️ Download do dataset\n",
    "# ==========================\n",
    "if not os.path.exists(dataset_path):\n",
    "    print(\"📥 Baixando Galaxy10_DECals (~2 GB)...\")\n",
    "    response = requests.get(url, stream=True)\n",
    "    with open(dataset_path, \"wb\") as f:\n",
    "        for chunk in response.iter_content(chunk_size=8192):\n",
    "            if chunk:\n",
    "                f.write(chunk)\n",
    "    print(f\"✅ Download concluído: {dataset_path}\")\n",
    "else:\n",
    "    print(\"✅ Arquivo já existe, pulando download.\")\n",
    "\n",
    "# ==========================\n",
    "# 📂 Extrair imagens e rótulos\n",
    "# ==========================\n",
    "print(\"🔍 Lendo arquivo HDF5...\")\n",
    "with h5py.File(dataset_path, \"r\") as f:\n",
    "    images = np.array(f[\"images\"])\n",
    "    labels = np.array(f[\"ans\"])\n",
    "\n",
    "print(f\"Total de imagens: {len(images)}\")\n",
    "print(f\"Dimensões: {images.shape}\")\n",
    "\n",
    "# ==========================\n",
    "# 🪞 Mapear classes relevantes\n",
    "# ==========================\n",
    "\n",
    "# Correto para Galaxy10_DECals\n",
    "class_map = {\n",
    "    0: \"smooth\",  # completely round\n",
    "    1: \"smooth\",  # in-between smooth\n",
    "    2: \"smooth\",  # cigar-shaped smooth\n",
    "    3: \"spiral\",  # edge-on disk\n",
    "    4: \"spiral\",  # barred spiral\n",
    "    5: \"spiral\",  # unbarred tight spiral\n",
    "    6: \"spiral\",  # unbarred medium spiral\n",
    "    7: \"spiral\",  # unbarred loose spiral\n",
    "    8: \"irregular\",  # merging system\n",
    "    9: \"irregular\"   # artifact/odd\n",
    "}\n",
    "\n",
    "\n",
    "selected_idx = [i for i, lbl in enumerate(labels) if lbl in class_map]\n",
    "images = images[selected_idx]\n",
    "labels = [class_map[lbl] for lbl in labels[selected_idx]]\n",
    "\n",
    "print(f\"✅ Após filtragem: {len(images)} imagens em {len(set(labels))} classes.\")\n",
    "\n",
    "# ==========================\n",
    "# 📁 Estruturar dataset (YOLO-CLS)\n",
    "# ==========================\n",
    "train_imgs, val_imgs, train_lbls, val_lbls = train_test_split(\n",
    "    images, labels, test_size=0.2, stratify=labels, random_state=42\n",
    ")\n",
    "\n",
    "for subset, imgs, lbls in [(\"train\", train_imgs, train_lbls), (\"val\", val_imgs, val_lbls)]:\n",
    "    for lbl in set(lbls):\n",
    "        os.makedirs(os.path.join(base_dir, f\"dataset_cls/{subset}/{lbl}\"), exist_ok=True)\n",
    "    \n",
    "    print(f\"💾 Salvando {subset}...\")\n",
    "    for i, (img, lbl) in enumerate(tqdm(zip(imgs, lbls), total=len(lbls))):\n",
    "        path = os.path.join(base_dir, f\"dataset_cls/{subset}/{lbl}/img_{i:05d}.png\")\n",
    "        Image.fromarray(img).save(path)\n",
    "\n",
    "print(\"✅ Dataset estruturado com sucesso!\")\n",
    "print(f\"Estrutura final: {os.path.join(base_dir, 'dataset_cls')}\")\n"
   ]
  }
 ],
 "metadata": {
  "colab": {
   "provenance": []
  },
  "kernelspec": {
   "display_name": "Python 3",
   "language": "python",
   "name": "python3"
  },
  "language_info": {
   "codemirror_mode": {
    "name": "ipython",
    "version": 3
   },
   "file_extension": ".py",
   "mimetype": "text/x-python",
   "name": "python",
   "nbconvert_exporter": "python",
   "pygments_lexer": "ipython3",
   "version": "3.12.9"
  }
 },
 "nbformat": 4,
 "nbformat_minor": 0
}
